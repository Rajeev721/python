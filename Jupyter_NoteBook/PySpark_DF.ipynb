{
 "cells": [
  {
   "cell_type": "code",
   "execution_count": 23,
   "metadata": {},
   "outputs": [
    {
     "name": "stdout",
     "output_type": "stream",
     "text": [
      "<pyspark.sql.session.SparkSession object at 0x00000267E7DE8518>\n",
      "<SparkContext master=local[*] appName=PySparkShell>\n",
      "<pyspark.sql.context.SQLContext object at 0x00000267E7F0A128>\n"
     ]
    }
   ],
   "source": [
    "from pyspark import SparkContext\n",
    "from pyspark.sql import SparkSession, SQLContext\n",
    "#creating Spark Context - already discussed\n",
    "spark_Session = SparkSession.builder.appName(\"PySpark_DataFrame\").master(\"local[*]\").getOrCreate()\n",
    "print(spark_Session)\n",
    "#creating Spark Context\n",
    "spark_context = spark_Session.sparkContext\n",
    "print(spark_context)\n",
    "#creating SQL Context\n",
    "sqlContext1 = SQLContext(spark_Session)\n",
    "print(sqlContext1)"
   ]
  },
  {
   "cell_type": "code",
   "execution_count": null,
   "metadata": {},
   "outputs": [],
   "source": []
  }
 ],
 "metadata": {
  "kernelspec": {
   "display_name": "Python 3",
   "language": "python",
   "name": "python3"
  },
  "language_info": {
   "codemirror_mode": {
    "name": "ipython",
    "version": 3
   },
   "file_extension": ".py",
   "mimetype": "text/x-python",
   "name": "python",
   "nbconvert_exporter": "python",
   "pygments_lexer": "ipython3",
   "version": "3.7.0"
  }
 },
 "nbformat": 4,
 "nbformat_minor": 2
}
