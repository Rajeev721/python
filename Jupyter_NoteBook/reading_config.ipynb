{
 "cells": [
  {
   "cell_type": "code",
   "execution_count": 1,
   "metadata": {},
   "outputs": [],
   "source": [
    "import os\n",
    "import sys\n",
    "import logging\n",
    "import configparser\n",
    "\n",
    "\n",
    "def configfile(file_name):\n",
    "\n",
    "    config = configparser.ConfigParser()\n",
    "    config_read = 'config.read(\"{0}\")'.format(file_name)\n",
    "    logging.info(config_read)\n",
    "    eval(config_read)\n",
    "    logging.info(config_read)\n",
    "    logging.basicConfig(filename=\"D:\\\\Learning\\\\logs\\\\app.log\", filemode='w',\n",
    "                        format='%(name)s - %(process)s- %(levelname)s - %(message)s')\n",
    "    logging.info(\"Assigning the parameter values\")\n",
    "    path = config.get('Paths', 'path')\n",
    "    source_file1 = config.get('Paths', 'source_file1')\n",
    "    source_file2 = config.get('Paths', 'source_file2')\n",
    "    target_file = config.get('Paths', 'target_file')\n",
    "    join_type = config.get('DB', 'type_of_join')\n",
    "    join_column = config.get('DB', 'join_column').strip(\" \")\n",
    "    database = config.get('DB', 'Database').strip(\" \")\n",
    "    target_table = config.get('DB', 'target_table').strip(\" \")\n",
    "    user_name = config.get('DB', 'user_name').strip(\" \")\n",
    "    password = config.get('DB', 'password').strip(\" \")\n",
    "    driver = config.get('DB', 'driver').strip(\" \")\n",
    "    connection_string = config.get('DB', 'connection_string').strip(\" \")\n",
    "    df_write = config.get('DB', 'df_write')\n",
    "    config_table = config.get('DB', 'config_table')\n",
    "    server_name = config.get('DB', 'server')\n",
    "    sql_driver = config.get('DB', 'sqldriver')\n",
    "    source_file1_path = os.path.join(path, source_file1)\n",
    "    source_file2_path = os.path.join(path, source_file2)\n",
    "    target_file2_path = os.path.join(path, target_file)\n",
    "\n",
    "\n"
   ]
  },
  {
   "cell_type": "code",
   "execution_count": 2,
   "metadata": {},
   "outputs": [],
   "source": [
    "if '__name__' == '__main__':\n",
    "    filename = sys.argv[1]\n",
    "    configfile(filename)"
   ]
  },
  {
   "cell_type": "code",
   "execution_count": null,
   "metadata": {},
   "outputs": [],
   "source": []
  }
 ],
 "metadata": {
  "kernelspec": {
   "display_name": "Python 3",
   "language": "python",
   "name": "python3"
  },
  "language_info": {
   "codemirror_mode": {
    "name": "ipython",
    "version": 3
   },
   "file_extension": ".py",
   "mimetype": "text/x-python",
   "name": "python",
   "nbconvert_exporter": "python",
   "pygments_lexer": "ipython3",
   "version": "3.7.0"
  }
 },
 "nbformat": 4,
 "nbformat_minor": 2
}
