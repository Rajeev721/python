{
 "cells": [
  {
   "cell_type": "code",
   "execution_count": 1,
   "metadata": {},
   "outputs": [],
   "source": [
    "from pyspark.sql import SparkSession\n",
    "\n",
    "sp = SparkSession.builder.appName(\"Basics of PySpark\").master(\"local[*]\").getOrCreate()"
   ]
  },
  {
   "cell_type": "code",
   "execution_count": 2,
   "metadata": {},
   "outputs": [],
   "source": [
    "file_rdd = sc.textFile(r\"D:\\Learning\\big.txt\")\n"
   ]
  },
  {
   "cell_type": "code",
   "execution_count": 4,
   "metadata": {},
   "outputs": [
    {
     "data": {
      "text/plain": [
       "['1609',\n",
       " '',\n",
       " 'THE SONNETS',\n",
       " '',\n",
       " 'by William Shakespeare',\n",
       " '',\n",
       " '',\n",
       " '',\n",
       " '                     1',\n",
       " '  From fairest creatures we desire increase']"
      ]
     },
     "execution_count": 4,
     "metadata": {},
     "output_type": "execute_result"
    }
   ],
   "source": [
    "file_rdd.take(10)\n",
    "a = file_rdd.flatMap(lambda line: line.split(\",\"))\n",
    "a.take(10)"
   ]
  },
  {
   "cell_type": "code",
   "execution_count": 5,
   "metadata": {},
   "outputs": [
    {
     "data": {
      "text/plain": [
       "['1609',\n",
       " 'THE SONNETS',\n",
       " 'by William Shakespeare',\n",
       " '                     1',\n",
       " '  From fairest creatures we desire increase',\n",
       " \"  That thereby beauty's rose might never die\",\n",
       " '  But as the riper should by time decease',\n",
       " '  His tender heir might bear his memory:',\n",
       " '  But thou contracted to thine own bright eyes',\n",
       " \"  Feed'st thy light's flame with self-substantial fuel\"]"
      ]
     },
     "execution_count": 5,
     "metadata": {},
     "output_type": "execute_result"
    }
   ],
   "source": [
    "k = ['',' ']\n",
    "b = a.filter(lambda x : x not in k)\n",
    "b.take(10)"
   ]
  },
  {
   "cell_type": "code",
   "execution_count": null,
   "metadata": {},
   "outputs": [],
   "source": []
  },
  {
   "cell_type": "code",
   "execution_count": null,
   "metadata": {},
   "outputs": [],
   "source": []
  }
 ],
 "metadata": {
  "kernelspec": {
   "display_name": "Python 3",
   "language": "python",
   "name": "python3"
  },
  "language_info": {
   "codemirror_mode": {
    "name": "ipython",
    "version": 3
   },
   "file_extension": ".py",
   "mimetype": "text/x-python",
   "name": "python",
   "nbconvert_exporter": "python",
   "pygments_lexer": "ipython3",
   "version": "3.7.0"
  }
 },
 "nbformat": 4,
 "nbformat_minor": 2
}
